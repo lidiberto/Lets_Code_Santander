{
 "cells": [
  {
   "cell_type": "code",
   "execution_count": 10,
   "metadata": {},
   "outputs": [
    {
     "name": "stdout",
     "output_type": "stream",
     "text": [
      "Digite um número a seguir: 10\n",
      "False True True\n"
     ]
    }
   ],
   "source": [
    "x = 10\n",
    "y = 4.2\n",
    "\n",
    "num = float(input(\"Digite um número a seguir: \"))\n",
    "\n",
    "#print(num > x*y, num <= x + y, num*y != x*y)\n",
    "\n",
    "\n",
    "print(False, True, True)\n"
   ]
  },
  {
   "cell_type": "code",
   "execution_count": 19,
   "metadata": {},
   "outputs": [
    {
     "data": {
      "text/plain": [
       "False"
      ]
     },
     "execution_count": 19,
     "metadata": {},
     "output_type": "execute_result"
    }
   ],
   "source": [
    "x = 4.2\n",
    "y = 10\n",
    "z = \"42\"\n",
    "\n",
    "not (((x * y == z) and not (x < y)) or y % 2 == 0)\n",
    "\n",
    "#not (((not True) or int(z) % 7 == 0) and ((str(int(x*y)) == z) and (type(x) != type(z))))"
   ]
  },
  {
   "cell_type": "code",
   "execution_count": 26,
   "metadata": {},
   "outputs": [
    {
     "name": "stdout",
     "output_type": "stream",
     "text": [
      "Digite o primeiro número inteiro: 20\n",
      "Digite o segundo número inteiro: 5\n",
      "Digite o terceiro número inteiro: 12\n",
      "True\n"
     ]
    }
   ],
   "source": [
    "a = int(input(\"Digite o primeiro número inteiro: \"))\n",
    "b = int(input(\"Digite o segundo número inteiro: \"))\n",
    "c = int(input(\"Digite o terceiro número inteiro: \"))\n",
    "\n",
    "if a > b and a > c:\n",
    "    resposta = a % 2 == 0\n",
    "elif b > a and b > c:\n",
    "    resposta = b % 2 == 0\n",
    "else:\n",
    "    resposta = c % 2 == 0\n",
    "\n",
    "print(resposta)"
   ]
  },
  {
   "cell_type": "code",
   "execution_count": 39,
   "metadata": {},
   "outputs": [
    {
     "name": "stdout",
     "output_type": "stream",
     "text": [
      "Digite um número inteiro: -42\n",
      "\n",
      "O número -42 é par e impar.\n"
     ]
    }
   ],
   "source": [
    "x = int(input(\"Digite um número inteiro: \"))\n",
    "\n",
    "if x<0:\n",
    "    resp1 = \"negativo\"\n",
    "else:\n",
    "    resp2 = \"positivo\"\n",
    "    \n",
    "if x%2==0:\n",
    "    resp1 = \"par\"\n",
    "else:\n",
    "    resp2 = \"impar\"\n",
    "    \n",
    "\n",
    "print(\"\\nO número {} é {} e {}.\".format(x, resp1, resp2))"
   ]
  },
  {
   "cell_type": "code",
   "execution_count": 40,
   "metadata": {},
   "outputs": [
    {
     "name": "stdout",
     "output_type": "stream",
     "text": [
      "2.0\n"
     ]
    }
   ],
   "source": [
    "cont = 0\n",
    "resultado = 0\n",
    "n = 1000\n",
    "\n",
    "while cont != n:\n",
    "    resultado = resultado + 1/(2**cont)\n",
    "    cont = cont + 1\n",
    "\n",
    "print(resultado)"
   ]
  },
  {
   "cell_type": "code",
   "execution_count": 41,
   "metadata": {},
   "outputs": [
    {
     "name": "stdout",
     "output_type": "stream",
     "text": [
      "Olá, mundo!\n",
      "Olá, mundo!\n",
      "Olá, mundo!\n",
      "Olá, mundo!\n",
      "Olá, mundo!\n",
      "Olá, mundo!\n",
      "Olá, mundo!\n",
      "Olá, mundo!\n",
      "Olá, mundo!\n",
      "Olá, mundo!\n"
     ]
    }
   ],
   "source": [
    "for i in range(10):\n",
    "    print(\"Olá, mundo!\") "
   ]
  },
  {
   "cell_type": "code",
   "execution_count": 42,
   "metadata": {},
   "outputs": [
    {
     "name": "stdout",
     "output_type": "stream",
     "text": [
      "Olá, mundo!\n",
      "Olá, mundo!\n",
      "Olá, mundo!\n",
      "Olá, mundo!\n",
      "Olá, mundo!\n",
      "Olá, mundo!\n",
      "Olá, mundo!\n",
      "Olá, mundo!\n",
      "Olá, mundo!\n",
      "Olá, mundo!\n"
     ]
    }
   ],
   "source": [
    "for i in \" \"*10:\n",
    "    print(\"Olá, mundo!\")"
   ]
  },
  {
   "cell_type": "code",
   "execution_count": 43,
   "metadata": {},
   "outputs": [
    {
     "name": "stdout",
     "output_type": "stream",
     "text": [
      "Olá, mundo!\n",
      "Olá, mundo!\n",
      "Olá, mundo!\n",
      "Olá, mundo!\n",
      "Olá, mundo!\n",
      "Olá, mundo!\n",
      "Olá, mundo!\n",
      "Olá, mundo!\n",
      "Olá, mundo!\n",
      "Olá, mundo!\n"
     ]
    }
   ],
   "source": [
    "for i in range(10, 20, 1):\n",
    "    print(\"Olá, mundo!\")"
   ]
  },
  {
   "cell_type": "code",
   "execution_count": 44,
   "metadata": {},
   "outputs": [
    {
     "name": "stdout",
     "output_type": "stream",
     "text": [
      "Olá, mundo!\n",
      "Olá, mundo!\n",
      "Olá, mundo!\n",
      "Olá, mundo!\n",
      "Olá, mundo!\n",
      "Olá, mundo!\n",
      "Olá, mundo!\n",
      "Olá, mundo!\n",
      "Olá, mundo!\n",
      "Olá, mundo!\n"
     ]
    }
   ],
   "source": [
    "for i in [10]*10:\n",
    "    print(\"Olá, mundo!\")"
   ]
  },
  {
   "cell_type": "code",
   "execution_count": 45,
   "metadata": {},
   "outputs": [
    {
     "name": "stdout",
     "output_type": "stream",
     "text": [
      "Olá, mundo!\n",
      "Olá, mundo!\n",
      "Olá, mundo!\n",
      "Olá, mundo!\n",
      "Olá, mundo!\n",
      "Olá, mundo!\n",
      "Olá, mundo!\n",
      "Olá, mundo!\n",
      "Olá, mundo!\n",
      "Olá, mundo!\n"
     ]
    }
   ],
   "source": [
    "for i in \"let's code\":\n",
    "    print(\"Olá, mundo!\")"
   ]
  },
  {
   "cell_type": "code",
   "execution_count": 46,
   "metadata": {},
   "outputs": [
    {
     "name": "stdout",
     "output_type": "stream",
     "text": [
      "Olá, mundo!\n"
     ]
    }
   ],
   "source": [
    "for i in [10]:\n",
    "    print(\"Olá, mundo!\")"
   ]
  },
  {
   "cell_type": "code",
   "execution_count": 50,
   "metadata": {},
   "outputs": [
    {
     "name": "stdout",
     "output_type": "stream",
     "text": [
      "[10, 10, 14, 6, 42, 126, 8, 10, 26]\n"
     ]
    }
   ],
   "source": [
    "lista_inicial = [10, 5, -7, 6, -42, 63, -8, -5, 13]\n",
    "\n",
    "lista_final = []\n",
    "\n",
    "for item in lista_inicial:\n",
    "    if item % 2 == 0:\n",
    "        if item < 0:\n",
    "            lista_final.append(-item)\n",
    "        else:\n",
    "            lista_final.append(item)\n",
    "    else:\n",
    "        if item < 0:\n",
    "            lista_final.append(-2*item)\n",
    "        else:\n",
    "            lista_final.append(2*item)\n",
    "print(lista_final)"
   ]
  },
  {
   "cell_type": "code",
   "execution_count": 51,
   "metadata": {},
   "outputs": [
    {
     "name": "stdout",
     "output_type": "stream",
     "text": [
      "['coelho', 'macaco', 'girafa']\n",
      "3\n",
      "0\n"
     ]
    }
   ],
   "source": [
    "animais = ['gato', 'coelho', 'macaco', 'girafa']\n",
    "\n",
    "animais.remove('gato')\n",
    "print(animais)\n",
    "print(len(animais))\n",
    "print(animais.index('coelho'))"
   ]
  },
  {
   "cell_type": "code",
   "execution_count": 56,
   "metadata": {},
   "outputs": [],
   "source": [
    "cadastro = [\"da Silva, Dra. Maria Francisca\"]"
   ]
  },
  {
   "cell_type": "code",
   "execution_count": 68,
   "metadata": {},
   "outputs": [],
   "source": [
    "primeiros_nomes = []\n",
    "for x in cadastro:\n",
    "    primeiros_nomes.append(x.split(\". \")[-1])\n",
    "\n",
    "sobrenomes = []\n",
    "for x in cadastro:\n",
    "    sobrenomes.append(x.split(\",\")[0])\n",
    "\n",
    "titulos = []\n",
    "for x in cadastro:\n",
    "    titulos.append(x.split(\".\")[0].split(\", \")[-1])"
   ]
  },
  {
   "cell_type": "code",
   "execution_count": 69,
   "metadata": {},
   "outputs": [
    {
     "name": "stdout",
     "output_type": "stream",
     "text": [
      "['da Silva'] ['Maria Francisca'] ['Dra']\n"
     ]
    }
   ],
   "source": [
    "print(sobrenomes, primeiros_nomes, titulos)"
   ]
  },
  {
   "cell_type": "code",
   "execution_count": 103,
   "metadata": {},
   "outputs": [],
   "source": [
    "def f_it(n):\n",
    "    resultado = 1\n",
    "\n",
    "    for i in range(1, n+1, 1):\n",
    "        resultado = resultado * i\n",
    "  \n",
    "    return resultado"
   ]
  },
  {
   "cell_type": "code",
   "execution_count": 104,
   "metadata": {},
   "outputs": [
    {
     "data": {
      "text/plain": [
       "120"
      ]
     },
     "execution_count": 104,
     "metadata": {},
     "output_type": "execute_result"
    }
   ],
   "source": [
    "f_it(5)"
   ]
  },
  {
   "cell_type": "code",
   "execution_count": 115,
   "metadata": {},
   "outputs": [],
   "source": [
    "def f_rec(n):\n",
    "    if n != 0:\n",
    "        return n*f_rec(n-1)\n",
    "    return 1"
   ]
  },
  {
   "cell_type": "code",
   "execution_count": 116,
   "metadata": {},
   "outputs": [
    {
     "data": {
      "text/plain": [
       "120"
      ]
     },
     "execution_count": 116,
     "metadata": {},
     "output_type": "execute_result"
    }
   ],
   "source": [
    "f_rec(5)"
   ]
  },
  {
   "cell_type": "code",
   "execution_count": 91,
   "metadata": {},
   "outputs": [],
   "source": [
    "def calc_media(*args):\n",
    "    soma = 0\n",
    "    n = 0\n",
    "    for item in args:\n",
    "        soma = soma + item\n",
    "        n = n + 1\n",
    "    return soma/n"
   ]
  },
  {
   "cell_type": "code",
   "execution_count": 92,
   "metadata": {},
   "outputs": [
    {
     "data": {
      "text/plain": [
       "12.5"
      ]
     },
     "execution_count": 92,
     "metadata": {},
     "output_type": "execute_result"
    }
   ],
   "source": [
    "calc_media(5, 10, 15,20)"
   ]
  },
  {
   "cell_type": "code",
   "execution_count": 93,
   "metadata": {},
   "outputs": [],
   "source": [
    "lista = ['7', '9', '6', '5', '9', '10', '7', '8', '10', '7', \n",
    "     '7', '6', '6', '10', '6', '6', '7', '10', '9', '10',\n",
    "     '7', '8', '10', '9', '8']\n",
    "         \n",
    "dic = {}\n",
    "\n",
    "for item in lista:\n",
    "    if item not in dic:\n",
    "        dic[item] = 1\n",
    "    else:\n",
    "        dic[item] = dic[item] + 1"
   ]
  },
  {
   "cell_type": "code",
   "execution_count": 94,
   "metadata": {},
   "outputs": [
    {
     "name": "stdout",
     "output_type": "stream",
     "text": [
      "{'7': 6, '9': 4, '6': 5, '5': 1, '10': 6, '8': 3}\n"
     ]
    }
   ],
   "source": [
    "print(dic)"
   ]
  },
  {
   "cell_type": "code",
   "execution_count": null,
   "metadata": {},
   "outputs": [],
   "source": []
  }
 ],
 "metadata": {
  "kernelspec": {
   "display_name": "Python 3",
   "language": "python",
   "name": "python3"
  },
  "language_info": {
   "codemirror_mode": {
    "name": "ipython",
    "version": 3
   },
   "file_extension": ".py",
   "mimetype": "text/x-python",
   "name": "python",
   "nbconvert_exporter": "python",
   "pygments_lexer": "ipython3",
   "version": "3.8.5"
  }
 },
 "nbformat": 4,
 "nbformat_minor": 4
}
