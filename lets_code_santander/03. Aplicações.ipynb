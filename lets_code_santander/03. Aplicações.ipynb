{
 "cells": [
  {
   "cell_type": "markdown",
   "metadata": {},
   "source": [
    "### AULA 01 - Manipulação de Arquivos"
   ]
  },
  {
   "cell_type": "markdown",
   "metadata": {},
   "source": [
    "#### Arquivos em Python\n",
    "\n",
    "O Python possui algumas funções prontas para manipular arquivos binários puros (onde, conhecendo a estrutura interna de qualquer formato, podemos salvar qualquer tipo de arquivo) e para manipular arquivos de texto (onde os binários são decodificados como strings).\n",
    "\n",
    "Focaremos no básico de manipulação de arquivo de texto, pois, na prática, quando formos trabalhar com arquivos mais complexos, é provável que usaremos bibliotecas específicas para lidar com eles, e elas já terão funções próprias para ler e salvar esses arquivos da maneira correta.\n",
    "\n",
    "#### Abrindo e fechando arquivos\n",
    "\n",
    "Podemos criar arquivos novos ou abrir arquivos já existentes utilizando a função open. Ela possui 2 argumentos: o caminho do arquivo e o modo de operação.\n",
    "Modo \tSímbolo \tDescrição\n",
    "read \tr \tlê um arquivo existente\n",
    "write \tw \tcria um novo arquivo\n",
    "append \ta \tabre um arquivo existente para adicionar informações ao seu final\n",
    "update \t+ \tao ser combinado com outros modos, permite alteração de arquivo já existente (ex: r+ abre um arquivo existente e permite modificá-lo)\n",
    "\n",
    "Após abrirmos (ou criarmos) um arquivo, podemos realizar diversas operações. Ao final de todas elas, devemos fechar o nosso arquivo usando a função close. Essa etapa é importante por 2 motivos:\n",
    "\n",
    "    1. Se alteramos o arquivo mas não o fechamos, as alterações não serão salvas;\n",
    "    2. Se esquecemos de fechar um arquivo, outros programas podem ter problemas ao acessá-lo.\n"
   ]
  },
  {
   "cell_type": "markdown",
   "metadata": {},
   "source": [
    "### Roteiro básico\n",
    "\n",
    "Vamos seguir os seguintes passos para manipular nossos arquivos:\n",
    "\n",
    "    1. Abrir ou criar um arquivo:\n"
   ]
  },
  {
   "cell_type": "code",
   "execution_count": 3,
   "metadata": {},
   "outputs": [],
   "source": [
    "arquivocriado = open(\"criado.txt\", \"w\")\n",
    "arquivocriado2 = open(\"teste.txt\", \"w\")"
   ]
  },
  {
   "cell_type": "markdown",
   "metadata": {},
   "source": [
    "A linha de comando acima abre (ou cria se não existe) um arquivo chamado \"criado.txt\" para escrita (\"w\", de write) e guarda na variável \"arquivocriado\" as informações para manipulá-lo."
   ]
  },
  {
   "cell_type": "code",
   "execution_count": 7,
   "metadata": {},
   "outputs": [
    {
     "data": {
      "text/plain": [
       "<_io.TextIOWrapper name='teste.txt' mode='r' encoding='cp1252'>"
      ]
     },
     "execution_count": 7,
     "metadata": {},
     "output_type": "execute_result"
    }
   ],
   "source": [
    "arquivolido = open(\"teste.txt\", \"r\")\n",
    "arquivolido"
   ]
  },
  {
   "cell_type": "markdown",
   "metadata": {},
   "source": [
    "A linha acima lê (\"r\", de read) um arquivo já existente chamado \"teste.txt\" e guarda na variável \"arquivolido\" as informações para manipulá-lo.\n",
    "\n",
    "    2. Carregar os dados do arquivo (leitura)\n"
   ]
  },
  {
   "cell_type": "code",
   "execution_count": 8,
   "metadata": {},
   "outputs": [
    {
     "name": "stdout",
     "output_type": "stream",
     "text": [
      "linha de teste\n"
     ]
    }
   ],
   "source": [
    "dados = arquivolido.read()\n",
    "print(dados)"
   ]
  },
  {
   "cell_type": "markdown",
   "metadata": {},
   "source": [
    "A função read() retorna todo o conteúdo do arquivo como uma string.\n",
    "\n",
    "Precisamos carregar o conteúdo do arquivo em algum formato que sabemos trabalhar. A read() carrega o conteúdo de um arquivo de texto em uma string.\n",
    "\n",
    "    3. Manipular os dados do arquivo (escrita)"
   ]
  },
  {
   "cell_type": "code",
   "execution_count": 10,
   "metadata": {},
   "outputs": [
    {
     "data": {
      "text/plain": [
       "7"
      ]
     },
     "execution_count": 10,
     "metadata": {},
     "output_type": "execute_result"
    }
   ],
   "source": [
    "arquivocriado.write(\"linha 1\")\n",
    "arquivocriado.write(\"linha 2\")\n",
    "arquivocriado.write(\"linha 3\")"
   ]
  },
  {
   "cell_type": "markdown",
   "metadata": {},
   "source": [
    "Em casos mais complexos, iremos manipular o conteudo LIDO no passo anterior para posteriormente reescrevê-lo. Em outros mais simples, podemos escrever diretamente no arquivo.\n",
    "\n",
    "    4. Fechar o arquivo"
   ]
  },
  {
   "cell_type": "code",
   "execution_count": 12,
   "metadata": {},
   "outputs": [],
   "source": [
    "arquivocriado.close()\n",
    "arquivolido.close()\n",
    "arquivocriado2.close()"
   ]
  },
  {
   "cell_type": "markdown",
   "metadata": {},
   "source": [
    "Essa etapa é muito importante para garantir a integridade dos novos dados no arquivo. As modificações são salvas somente ao fechar o arquivo. "
   ]
  },
  {
   "cell_type": "markdown",
   "metadata": {},
   "source": [
    "### Comando with\n",
    "\n",
    "Um jeito mais inteligente de se trabalhar com arquivos é utilizar a sintaxe do \"with\". Ele garante que após a finalização do bloco, o arquivo será fechado."
   ]
  },
  {
   "cell_type": "code",
   "execution_count": 23,
   "metadata": {},
   "outputs": [
    {
     "name": "stdout",
     "output_type": "stream",
     "text": [
      "linha de teste\n"
     ]
    }
   ],
   "source": [
    "with open('teste.txt', 'r') as arquivolido:\n",
    "   dados = arquivolido.read()\n",
    "   print(dados)"
   ]
  },
  {
   "cell_type": "code",
   "execution_count": 25,
   "metadata": {},
   "outputs": [
    {
     "name": "stdout",
     "output_type": "stream",
     "text": [
      "linha de teste"
     ]
    }
   ],
   "source": [
    "# É possível ler o arquivo linha a linha, como no exemplo:\n",
    "with open('teste.txt', 'r') as arquivolido:\n",
    "   linha = arquivolido.readline()\n",
    "   while linha != '':\n",
    "       print(linha, end='')\n",
    "       linha = arquivolido.readline()"
   ]
  },
  {
   "cell_type": "code",
   "execution_count": 19,
   "metadata": {},
   "outputs": [
    {
     "name": "stdout",
     "output_type": "stream",
     "text": [
      "linha de teste"
     ]
    }
   ],
   "source": [
    "# OU\n",
    "with open('teste.txt', 'r') as arquivolido:\n",
    "    for linha in arquivolido:\n",
    "        print(linha, end='')"
   ]
  },
  {
   "cell_type": "code",
   "execution_count": 16,
   "metadata": {},
   "outputs": [],
   "source": [
    "#O mesmo pode ser feito para escrever no arquivo:\n",
    "with open('teste.txt', 'r') as arquivolido:\n",
    "    with open('copiateste.txt', 'w') as arquivocriado:\n",
    "        for linha in arquivolido:\n",
    "            arquivocriado.write(linha)"
   ]
  },
  {
   "cell_type": "markdown",
   "metadata": {},
   "source": [
    "No comando acima, as linhas do arquivo \"teste.txt\" são copiadas e salvas no arquivo \"copiateste.txt\". "
   ]
  },
  {
   "cell_type": "code",
   "execution_count": null,
   "metadata": {},
   "outputs": [],
   "source": []
  }
 ],
 "metadata": {
  "kernelspec": {
   "display_name": "Python 3",
   "language": "python",
   "name": "python3"
  },
  "language_info": {
   "codemirror_mode": {
    "name": "ipython",
    "version": 3
   },
   "file_extension": ".py",
   "mimetype": "text/x-python",
   "name": "python",
   "nbconvert_exporter": "python",
   "pygments_lexer": "ipython3",
   "version": "3.8.5"
  }
 },
 "nbformat": 4,
 "nbformat_minor": 4
}
